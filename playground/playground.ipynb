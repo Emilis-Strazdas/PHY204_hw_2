{
 "cells": [
  {
   "cell_type": "code",
   "execution_count": 77,
   "metadata": {},
   "outputs": [],
   "source": [
    "import numpy as np\n",
    "from numpy import sin, cos, pi\n",
    "import matplotlib.pyplot as plt"
   ]
  },
  {
   "cell_type": "code",
   "execution_count": 142,
   "metadata": {},
   "outputs": [],
   "source": [
    "# Calculation constants\n",
    "n_grid = 100\n",
    "n_step = 1\n",
    "dphi = 2*pi / n_step\n",
    "phis = np.linspace(0, 2*pi - dphi, n_step)\n",
    "scale = 1\n",
    "d = 0.00005\n",
    "delta = 2 * d\n",
    "\n",
    "# Initial conditions\n",
    "a = 1 * scale   # radius of the ring\n",
    "I_0 = 1         # current in the ring\n",
    "w = 100         # angular frequency of the current\n",
    "c = 10000       # speed of light in CGS units\n"
   ]
  },
  {
   "cell_type": "code",
   "execution_count": 79,
   "metadata": {},
   "outputs": [],
   "source": [
    "# Fields\n",
    "A = np.zeros((n_grid, n_grid, n_grid, 3), dtype=float) # Magnetic vector potential\n",
    "E = np.copy(A)                                                  # Electric vector potential\n",
    "B = np.copy(A)                                                  # Magnetic field"
   ]
  },
  {
   "cell_type": "code",
   "execution_count": 80,
   "metadata": {},
   "outputs": [],
   "source": [
    "# Utility functions\n",
    "def distance(x, y, z, phi):\n",
    "    return np.sqrt( (x - a * cos(phi))**2 + (y - a * sin(phi))**2 + z**2 )\n",
    "\n",
    "def ikj_to_cartesian(i, j, k):\n",
    "    x = (i - 50) * scale\n",
    "    y = (j - 50) * scale\n",
    "    z = (k - 50) * scale\n",
    "    return x, y, z"
   ]
  },
  {
   "cell_type": "code",
   "execution_count": 41,
   "metadata": {},
   "outputs": [],
   "source": [
    "# Update A field\n",
    "def update_A(t):\n",
    "    for i in range(grid_size):\n",
    "        for j in range(grid_size):\n",
    "            for k in range(grid_size):\n",
    "                update_A_cell(i, j, k, t)\n",
    "    return\n",
    "\n",
    "# Update A a cell in the A field\n",
    "def update_A_cell(i, k, j, t):\n",
    "    x, y, z = ikj_to_cartesian(i, j, k)\n",
    "    A[i, j, k] = A_integral(x, y, z, t)\n",
    "    return \n",
    "\n",
    "# Calculate the integral of A\n",
    "def A_integral(x, y, z, t):\n",
    "    Cell = np.zeros(3)\n",
    "    for phi in phis:\n",
    "        Cell += A_integral_step(x, y, z, t, phi)\n",
    "    return Cell * 10**-8\n",
    "\n",
    "# Calculate the integral of A for a given phi\n",
    "def A_integral_step(x, y, z, t, phi):\n",
    "    e = np.array([-sin(phi), cos(phi), 0.])\n",
    "    tr = t - distance(x, y, z, phi) / c\n",
    "    return tr * sin(w*tr) * e * a / distance(x, y, z, phi) * dphi"
   ]
  },
  {
   "cell_type": "code",
   "execution_count": 135,
   "metadata": {},
   "outputs": [],
   "source": [
    "def calc_A(x, y, z, t):\n",
    "    phi_steps = 100\n",
    "    dphi = 2 * pi / phi_steps\n",
    "    A = np.zeros(3)\n",
    "\n",
    "    # phis = np.linspace(0, 2*pi, phi_steps)\n",
    "    # for phi in phis:\n",
    "\n",
    "    for i in range(phi_steps):\n",
    "        phi = i * dphi\n",
    "        e = np.array([-sin(phi), cos(phi), 0.])\n",
    "        tr = t - distance(x, y, z, phi) / c\n",
    "        A += tr * sin(w*tr) * e / distance(x, y, z, phi) * dphi\n",
    "\n",
    "    return A * 10**-8"
   ]
  },
  {
   "cell_type": "code",
   "execution_count": 158,
   "metadata": {},
   "outputs": [],
   "source": [
    "# Their version (for reference)\n",
    "def Afield(x, y, z, t):\n",
    "    nphi = n_step\n",
    "    dp = 2*pi/nphi\n",
    "    A = np.array([0., 0., 0.])\n",
    "    r = np.array([x, y, z])\n",
    "    for ip in range(nphi):\n",
    "        p = ip * 2 * pi / nphi\n",
    "        rp = a * np.array([cos(p), sin(p), 0.])\n",
    "        ep = np.array([-sin(p), cos(p), 0.])\n",
    "        dist = np.linalg.norm(r - rp)\n",
    "        tr = t - dist/c\n",
    "        A += (tr>0) * sin(w*tr) * ep * dp / dist\n",
    "    return A\n",
    "\n",
    "def E_field(x, y, z, t):\n",
    "    delta = 0.0001\n",
    "    return -(Afield(x, y, z, t + delta) - Afield(x, y, z, t)) / delta\n",
    "\n",
    "def B_field(x, y, z, t):\n",
    "    delta = 0.0001\n",
    "    dxA = (Afield(x + delta, y, z, t) - Afield(x, y, z, t)) / delta\n",
    "    dyA = (Afield(x, y + delta, z, t) - Afield(x, y, z, t)) / delta\n",
    "    dzA = (Afield(x, y, z + delta, t) - Afield(x, y, z, t)) / delta\n",
    "    return np.array([dyA[2] - dzA[1], dzA[0] - dxA[2], dxA[1] - dyA[0]])"
   ]
  },
  {
   "cell_type": "code",
   "execution_count": 156,
   "metadata": {},
   "outputs": [],
   "source": [
    "n_step = 100\n",
    "dp = 2*pi/n_step\n",
    "phis = np.linspace(0, 2*pi-dp, n_step)\n",
    "\n",
    "def A(x, y, z, t):\n",
    "    A = np.zeros(3)\n",
    "\n",
    "    for phi in phis:\n",
    "        e = np.array([-sin(phi), cos(phi), 0.])\n",
    "        tr = t - distance(x, y, z, phi) / c\n",
    "        A += tr * sin(w*tr) * e / distance(x, y, z, phi) * dphi\n",
    "\n",
    "    return A * 10**-8\n",
    "\n",
    "# Convert A to E\n",
    "def E_compute(x, y, z, t):\n",
    "    E = - diff_A_t(x, y, z, t)\n",
    "    return E\n",
    "\n",
    "# Convert A to B\n",
    "def B_compute(x, y, z, t):\n",
    "    B = np.zeros(3)\n",
    "    B[0] = diff_A_y(x, y, z, t)[2] - diff_A_z(x, y, z, t)[1]\n",
    "    B[1] = diff_A_z(x, y, z, t)[0] - diff_A_x(x, y, z, t)[2]\n",
    "    B[2] = diff_A_x(x, y, z, t)[1] - diff_A_y(x, y, z, t)[0]\n",
    "    return B\n",
    "    \n",
    "n = 1\n",
    "\n",
    "def diff_A_x(x, y, z, t):\n",
    "    return (A(x + d, y, z, t) - A(x - d, y, z, t)) / (n * d)\n",
    "\n",
    "def diff_A_y(x, y, z, t):\n",
    "    return (A(x, y + d, z, t) - A(x, y - d, z, t)) / (n * d)\n",
    "\n",
    "def diff_A_z(x, y, z, t):\n",
    "    return (A(x, y, z + d, t) - A(x, y, z - d, t)) / (n * d)\n",
    "\n",
    "def diff_A_t(x, y, z, t):\n",
    "    return (A(x, y, z, t + d) - A(x, y, z, t - d)) / (n * d)"
   ]
  },
  {
   "cell_type": "code",
   "execution_count": 159,
   "metadata": {},
   "outputs": [
    {
     "name": "stdout",
     "output_type": "stream",
     "text": [
      "My code:  E: [ 1.18655086e-19 -2.31935094e-06 -0.00000000e+00], B: [ 0.00000000e+00  0.00000000e+00 -9.59833513e-09]\n",
      "Solution: E: [-4.73796349e-13 -5.15546352e+00 -0.00000000e+00], B: [ 7.43441281e-07  1.51788304e-14 -2.39928183e-02]\n"
     ]
    }
   ],
   "source": [
    "x, y, z, t = 5, 0, 0, 0.2\n",
    "\n",
    "print(f'My code:  E: {E_compute(x, y, z, t)}, B: {B_compute(x, y, z, t)}')\n",
    "print(f'Solution: E: {E_field(x, y, z, t)}, B: {B_field(x, y, z, t)}')"
   ]
  },
  {
   "cell_type": "code",
   "execution_count": 213,
   "metadata": {},
   "outputs": [],
   "source": [
    "n_step = 100\n",
    "dp = 2*pi/n_step\n",
    "phis = np.linspace(0, 2*pi-dp, n_step)\n",
    "a = 1\n",
    "w = 100\n",
    "c = 10000\n",
    "I = 1\n",
    "\n",
    "def calc_A(x, y, z, t):\n",
    "    A = np.zeros(3)\n",
    "    for i in range(n_step):\n",
    "        phi = i * dp\n",
    "        e = np.array([-sin(phi), cos(phi), 0.])\n",
    "        tr = t - distance(x, y, z, phi) / c\n",
    "        A += tr * sin(w*tr) * e / distance(x, y, z, phi)\n",
    "    return A * I * a * dp / c**2\n",
    "\n",
    "def Afield(x, y, z, t):\n",
    "    dp = 2*pi/n_step\n",
    "    A = np.array([0., 0., 0.])\n",
    "    r = np.array([x, y, z])\n",
    "    for ip in range(n_step):\n",
    "        p = ip * dp\n",
    "        rp = a * np.array([cos(p), sin(p), 0.])\n",
    "        ep = np.array([-sin(p), cos(p), 0.])\n",
    "        dist = np.linalg.norm(r - rp)\n",
    "        tr = t - dist/c\n",
    "        A += (tr>0) * sin(w*tr) * ep / dist\n",
    "    return A / c**2 * dp\n",
    "\n",
    "def A(x, y, z, t):\n",
    "    A = np.zeros(3)\n",
    "    for phi in phis:\n",
    "        e = np.array([-sin(phi), cos(phi), 0.])\n",
    "        tr = t - distance(x, y, z, phi) / c\n",
    "        A += tr * sin(w*tr) * e / distance(x, y, z, phi) \n",
    "    return A * I * a / c**2 * dp"
   ]
  },
  {
   "cell_type": "code",
   "execution_count": 214,
   "metadata": {},
   "outputs": [
    {
     "name": "stdout",
     "output_type": "stream",
     "text": [
      "Calc_A:  A: [-1.5940649e-26 -1.7203876e-11  0.0000000e+00]\n",
      "Afield:  A: [ 2.45785733e-25 -1.72317772e-10  0.00000000e+00]\n",
      "A:       A: [-1.5940649e-26 -1.7203876e-11  0.0000000e+00]\n"
     ]
    }
   ],
   "source": [
    "x, y, z, t = 10, 0, 0, 0.1\n",
    "\n",
    "print(f'Calc_A:  A: {calc_A(x, y, z, t)}')\n",
    "print(f'Afield:  A: {Afield(x, y, z, t)}')\n",
    "print(f'A:       A: {A     (x, y, z, t)}')"
   ]
  }
 ],
 "metadata": {
  "kernelspec": {
   "display_name": "base",
   "language": "python",
   "name": "python3"
  },
  "language_info": {
   "codemirror_mode": {
    "name": "ipython",
    "version": 3
   },
   "file_extension": ".py",
   "mimetype": "text/x-python",
   "name": "python",
   "nbconvert_exporter": "python",
   "pygments_lexer": "ipython3",
   "version": "3.9.13"
  },
  "orig_nbformat": 4
 },
 "nbformat": 4,
 "nbformat_minor": 2
}
